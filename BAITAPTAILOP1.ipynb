{
  "nbformat": 4,
  "nbformat_minor": 0,
  "metadata": {
    "colab": {
      "provenance": [],
      "authorship_tag": "ABX9TyMtENNfjdQiKWAOeh/uV3yR",
      "include_colab_link": true
    },
    "kernelspec": {
      "name": "python3",
      "display_name": "Python 3"
    },
    "language_info": {
      "name": "python"
    }
  },
  "cells": [
    {
      "cell_type": "markdown",
      "metadata": {
        "id": "view-in-github",
        "colab_type": "text"
      },
      "source": [
        "<a href=\"https://colab.research.google.com/github/Ldkhanhduy/Bai_tap_tai_lop_tong_hop/blob/main/BAITAPTAILOP1.ipynb\" target=\"_parent\"><img src=\"https://colab.research.google.com/assets/colab-badge.svg\" alt=\"Open In Colab\"/></a>"
      ]
    },
    {
      "cell_type": "markdown",
      "source": [
        "Bài 1\n"
      ],
      "metadata": {
        "id": "v0QfFO1RjuxK"
      }
    },
    {
      "cell_type": "code",
      "execution_count": 1,
      "metadata": {
        "colab": {
          "base_uri": "https://localhost:8080/"
        },
        "id": "ui2PQXbWgfKJ",
        "outputId": "baeec8e0-643f-4111-a074-56a3c09071e5"
      },
      "outputs": [
        {
          "output_type": "stream",
          "name": "stdout",
          "text": [
            "[]\n"
          ]
        }
      ],
      "source": [
        "x=[]\n",
        "print(x)"
      ]
    },
    {
      "cell_type": "code",
      "source": [
        "for i in range(18):\n",
        "  x.append(i)\n",
        "print(x)"
      ],
      "metadata": {
        "colab": {
          "base_uri": "https://localhost:8080/"
        },
        "id": "zA5TIgy7gyR8",
        "outputId": "d5395239-1821-46af-e04d-3c414434dd68"
      },
      "execution_count": 2,
      "outputs": [
        {
          "output_type": "stream",
          "name": "stdout",
          "text": [
            "[0, 1, 2, 3, 4, 5, 6, 7, 8, 9, 10, 11, 12, 13, 14, 15, 16, 17]\n"
          ]
        }
      ]
    },
    {
      "cell_type": "code",
      "source": [
        "x.append(\"Hue\")\n",
        "print(x)"
      ],
      "metadata": {
        "colab": {
          "base_uri": "https://localhost:8080/"
        },
        "id": "noQ6Z308hSbp",
        "outputId": "0017934c-29a5-445b-dd88-8b0f893c4af1"
      },
      "execution_count": 3,
      "outputs": [
        {
          "output_type": "stream",
          "name": "stdout",
          "text": [
            "[0, 1, 2, 3, 4, 5, 6, 7, 8, 9, 10, 11, 12, 13, 14, 15, 16, 17, 'Hue']\n"
          ]
        }
      ]
    },
    {
      "cell_type": "code",
      "source": [
        "y = [12, 45, -1, -0.56, \"abc\"]\n",
        "print(y)"
      ],
      "metadata": {
        "colab": {
          "base_uri": "https://localhost:8080/"
        },
        "id": "w2j-CYHih057",
        "outputId": "ba45e240-f0e2-4d19-bf88-e3a6648f7505"
      },
      "execution_count": 4,
      "outputs": [
        {
          "output_type": "stream",
          "name": "stdout",
          "text": [
            "[12, 45, -1, -0.56, 'abc']\n"
          ]
        }
      ]
    },
    {
      "cell_type": "code",
      "source": [
        "x.extend(y)\n",
        "print(x)"
      ],
      "metadata": {
        "colab": {
          "base_uri": "https://localhost:8080/"
        },
        "id": "_slIaKL2iRlK",
        "outputId": "37d08dcf-1458-4116-9ce4-c77884bd6acc"
      },
      "execution_count": 7,
      "outputs": [
        {
          "output_type": "stream",
          "name": "stdout",
          "text": [
            "[0, 1, 2, 3, 4, 5, 6, 7, 8, 9, 10, 11, 12, 13, 14, 15, 16, 17, 'Hue', 12, 45, -1, -0.56, 'abc', 12, 45, -1, -0.56, 'abc', 12, 45, -1, -0.56, 'abc']\n"
          ]
        }
      ]
    },
    {
      "cell_type": "code",
      "source": [
        "print(x[0])\n",
        "print(x[-1])"
      ],
      "metadata": {
        "colab": {
          "base_uri": "https://localhost:8080/"
        },
        "id": "3NKU0G6liaUK",
        "outputId": "87b31900-83ba-463e-908a-2779531b311f"
      },
      "execution_count": 8,
      "outputs": [
        {
          "output_type": "stream",
          "name": "stdout",
          "text": [
            "0\n",
            "abc\n"
          ]
        }
      ]
    },
    {
      "cell_type": "code",
      "source": [
        "print(x[:5])"
      ],
      "metadata": {
        "colab": {
          "base_uri": "https://localhost:8080/"
        },
        "id": "SQzXFYySii1e",
        "outputId": "e9605f75-90a2-4423-ad3b-9724a5acba17"
      },
      "execution_count": 11,
      "outputs": [
        {
          "output_type": "stream",
          "name": "stdout",
          "text": [
            "[0, 1, 2, 3, 4]\n"
          ]
        }
      ]
    },
    {
      "cell_type": "code",
      "source": [
        "print(x[2:])"
      ],
      "metadata": {
        "colab": {
          "base_uri": "https://localhost:8080/"
        },
        "id": "dR5cljdqjD8i",
        "outputId": "31467c4c-fa58-45c2-c081-14bd40d256a3"
      },
      "execution_count": 10,
      "outputs": [
        {
          "output_type": "stream",
          "name": "stdout",
          "text": [
            "[2, 3, 4, 5, 6, 7, 8, 9, 10, 11, 12, 13, 14, 15, 16, 17, 'Hue', 12, 45, -1, -0.56, 'abc', 12, 45, -1, -0.56, 'abc', 12, 45, -1, -0.56, 'abc']\n"
          ]
        }
      ]
    },
    {
      "cell_type": "markdown",
      "source": [
        "Bài 2"
      ],
      "metadata": {
        "id": "j4yo6KJfj00E"
      }
    },
    {
      "cell_type": "code",
      "source": [
        "t = (12, 45, -1, -0.56, \"abc\", True)\n",
        "print(t)\n"
      ],
      "metadata": {
        "colab": {
          "base_uri": "https://localhost:8080/"
        },
        "id": "00eVrCYQj10q",
        "outputId": "b4b5b213-322c-477b-d4d3-42aab0d0464f"
      },
      "execution_count": 13,
      "outputs": [
        {
          "output_type": "stream",
          "name": "stdout",
          "text": [
            "(12, 45, -1, -0.56, 'abc', True)\n"
          ]
        }
      ]
    },
    {
      "cell_type": "code",
      "source": [
        "print(t[0])\n",
        "print(t[-1])"
      ],
      "metadata": {
        "colab": {
          "base_uri": "https://localhost:8080/"
        },
        "id": "_-dgQ4TckYsC",
        "outputId": "9ba18d14-f349-4a5b-f318-6e6c4008a72f"
      },
      "execution_count": 14,
      "outputs": [
        {
          "output_type": "stream",
          "name": "stdout",
          "text": [
            "12\n",
            "True\n"
          ]
        }
      ]
    },
    {
      "cell_type": "code",
      "source": [
        "print(t[:4])"
      ],
      "metadata": {
        "colab": {
          "base_uri": "https://localhost:8080/"
        },
        "id": "YIIDQxKbkuB5",
        "outputId": "1409b3f0-19ec-42f8-f554-3b2eee85c048"
      },
      "execution_count": 15,
      "outputs": [
        {
          "output_type": "stream",
          "name": "stdout",
          "text": [
            "(12, 45, -1, -0.56)\n"
          ]
        }
      ]
    },
    {
      "cell_type": "code",
      "source": [
        "print(t[2:])"
      ],
      "metadata": {
        "colab": {
          "base_uri": "https://localhost:8080/"
        },
        "id": "3yKl8X92kwej",
        "outputId": "ccc60d19-ea4e-4080-c23f-59657fc5a51e"
      },
      "execution_count": 16,
      "outputs": [
        {
          "output_type": "stream",
          "name": "stdout",
          "text": [
            "(-1, -0.56, 'abc', True)\n"
          ]
        }
      ]
    },
    {
      "cell_type": "code",
      "source": [
        "t=list(t)\n",
        "print(t)"
      ],
      "metadata": {
        "colab": {
          "base_uri": "https://localhost:8080/"
        },
        "id": "gYIgps3JlC1r",
        "outputId": "059e157a-e15f-4905-e945-e6da39cc25f5"
      },
      "execution_count": 17,
      "outputs": [
        {
          "output_type": "stream",
          "name": "stdout",
          "text": [
            "[12, 45, -1, -0.56, 'abc', True]\n"
          ]
        }
      ]
    },
    {
      "cell_type": "markdown",
      "source": [
        "Bài 3"
      ],
      "metadata": {
        "id": "HVFdKzbdlMJp"
      }
    },
    {
      "cell_type": "code",
      "source": [
        "A={'NNLT Python', 'Đại số tuyến tính', 'Tiếng Anh chuyên ngành', 'Thể dục'}\n",
        "B = {'NNLT Python', 'Đại số tuyến tính', 'Tối ưu hóa', 'Học Máy', 'Học sâu', 'Computer vision', 'Natural Language Processing', 'Recommender Systems'}\n",
        "print(A)\n",
        "print(B)"
      ],
      "metadata": {
        "colab": {
          "base_uri": "https://localhost:8080/"
        },
        "id": "_DK4xQDclN8K",
        "outputId": "2f5ca785-b103-4557-bb46-bb902ff032bb"
      },
      "execution_count": 21,
      "outputs": [
        {
          "output_type": "stream",
          "name": "stdout",
          "text": [
            "{'NNLT Python', 'Đại số tuyến tính', 'Thể dục', 'Tiếng Anh chuyên ngành'}\n",
            "{'Tối ưu hóa', 'Natural Language Processing', 'NNLT Python', 'Học Máy', 'Học sâu', 'Đại số tuyến tính', 'Recommender Systems', 'Computer vision'}\n"
          ]
        }
      ]
    },
    {
      "cell_type": "code",
      "source": [
        "C=A.union(B)\n",
        "print(C)"
      ],
      "metadata": {
        "colab": {
          "base_uri": "https://localhost:8080/"
        },
        "id": "ZID1N-pVoY81",
        "outputId": "acb96114-7932-4eac-de82-a22ea94b5766"
      },
      "execution_count": 26,
      "outputs": [
        {
          "output_type": "stream",
          "name": "stdout",
          "text": [
            "{'Tối ưu hóa', 'Natural Language Processing', 'NNLT Python', 'Học Máy', 'Tiếng Anh chuyên ngành', 'Đại số tuyến tính', 'Học sâu', 'Recommender Systems', 'Computer vision', 'Thể dục'}\n"
          ]
        }
      ]
    },
    {
      "cell_type": "code",
      "source": [
        "D=A\n",
        "D.update(B)\n",
        "print(D)"
      ],
      "metadata": {
        "colab": {
          "base_uri": "https://localhost:8080/"
        },
        "id": "Mfos11BOodz5",
        "outputId": "0ac52b63-6d31-4e20-dceb-3d6dc74ee3df"
      },
      "execution_count": 30,
      "outputs": [
        {
          "output_type": "stream",
          "name": "stdout",
          "text": [
            "{'Tối ưu hóa', 'Natural Language Processing', 'NNLT Python', 'Học Máy', 'Tiếng Anh chuyên ngành', 'Đại số tuyến tính', 'Học sâu', 'Recommender Systems', 'Computer vision', 'Thể dục'}\n"
          ]
        }
      ]
    },
    {
      "cell_type": "code",
      "source": [
        "A1=A.difference(B)\n",
        "print(A1)"
      ],
      "metadata": {
        "colab": {
          "base_uri": "https://localhost:8080/"
        },
        "id": "t53QWF7Pnd4E",
        "outputId": "36531ae0-7b0d-4ecb-b65f-f3dcc3b98b87"
      },
      "execution_count": 32,
      "outputs": [
        {
          "output_type": "stream",
          "name": "stdout",
          "text": [
            "{'Tiếng Anh chuyên ngành', 'Thể dục'}\n"
          ]
        }
      ]
    },
    {
      "cell_type": "code",
      "source": [
        "B2=B.difference(A)\n",
        "print(B2)"
      ],
      "metadata": {
        "colab": {
          "base_uri": "https://localhost:8080/"
        },
        "id": "8DOjuSdds58Z",
        "outputId": "06f50249-8932-44c5-9a55-bdd07f34b363"
      },
      "execution_count": 38,
      "outputs": [
        {
          "output_type": "stream",
          "name": "stdout",
          "text": [
            "set()\n"
          ]
        }
      ]
    },
    {
      "cell_type": "code",
      "source": [
        "x = [1, 1, 1, 2, 2, 3, 3 ,3, 4 ,5 ,6, 7]\n",
        "print(x)\n",
        "x=set(x)\n",
        "print(x)"
      ],
      "metadata": {
        "colab": {
          "base_uri": "https://localhost:8080/"
        },
        "id": "SIhcgoZwoKo6",
        "outputId": "8d6daaec-aabb-4142-af80-fe0e0ceaee48"
      },
      "execution_count": 25,
      "outputs": [
        {
          "output_type": "stream",
          "name": "stdout",
          "text": [
            "[1, 1, 1, 2, 2, 3, 3, 3, 4, 5, 6, 7]\n",
            "{1, 2, 3, 4, 5, 6, 7}\n"
          ]
        }
      ]
    }
  ]
}